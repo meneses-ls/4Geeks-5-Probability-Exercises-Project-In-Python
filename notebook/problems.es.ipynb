{
 "cells": [
  {
   "cell_type": "markdown",
   "id": "a41f3622",
   "metadata": {},
   "source": [
    "# Ejercicios De Probabilidad:"
   ]
  },
  {
   "cell_type": "markdown",
   "id": "a6bdbd89",
   "metadata": {},
   "source": [
    "## Ejercicio 1 \n",
    "\n",
    "Dos dados se lanzan una vez y se observa el total obtenido. Usa una simulación para encontrar la probabilidad estimada de que la puntuación sea mayor a 7 o un número par. Una simulación es una repetición del mismo experimento multiples veces para observar su comportamiento:\n",
    "\n",
    "- Ejecuta el experimento 1000 veces (lanza 2 dados 1000 veces, y suma el número de ambos dados).\n",
    "- Lleva una cuenta de los números y las veces que la suma fue mayor a 7 o un número par.\n",
    "- Divide el número del paso 2 entre el número de iteraciones(1000)."
   ]
  },
  {
   "cell_type": "code",
   "execution_count": null,
   "id": "8939d892",
   "metadata": {},
   "outputs": [
    {
     "name": "stdout",
     "output_type": "stream",
     "text": [
      "La probabilidad estimada para que la suma de los dados sea mayor a 7 es de: 40.9%.\n",
      "\n",
      "La probabilidad estimada para que la suma de los dados sea par es de: 25.2%.\n"
     ]
    }
   ],
   "source": [
    "import random\n",
    "\n",
    "# - Declaración De Variables:\n",
    "\n",
    "DadoA = 0\n",
    "DadoB = 0\n",
    "Cont7 = 0\n",
    "ContPar = 0\n",
    "\n",
    "# - Desarrollo Del Problema:\n",
    "\n",
    "for i in range(1000):\n",
    "    DadoA = random.randint(1, 6)\n",
    "    DadoB = random.randint(1, 6)\n",
    "    DadoSum = DadoA+DadoB\n",
    "    if DadoSum > 7:\n",
    "        Cont7 += 1\n",
    "    elif (DadoSum % 2) == 0:\n",
    "        ContPar += 1\n",
    "\n",
    "# - Impresión De Los Resultados:\n",
    "\n",
    "print(f\"La probabilidad estimada para que la suma de los dados sea mayor a 7 es de: {round(((Cont7/1000)*100), 1)}%.\")\n",
    "print()\n",
    "print(f\"La probabilidad estimada para que la suma de los dados sea par es de: {round(((ContPar/1000)*100), 1)}%.\")"
   ]
  },
  {
   "cell_type": "markdown",
   "id": "55732bca",
   "metadata": {},
   "source": [
    "## Ejercicio 2\n",
    "\n",
    "Una caja contiene 10 bolas blancas, 20 bolas rojas y 30 bolas verdes. Si tomamos 5 bolas de la caja reemplazándolas (tomando una bola, anotando el color y luego regresandola a la caja). Queremos saber la probabilidad de:\n",
    "\n",
    "1. Tomar 3 blancas y 2 rojas.\n",
    "2. Todas todas del mismo color.\n",
    "\n",
    "Ejecuta el experimento 1000 veces y calcula las probabilidades que mencionadas."
   ]
  },
  {
   "cell_type": "code",
   "execution_count": 114,
   "id": "23244d20",
   "metadata": {},
   "outputs": [
    {
     "name": "stdout",
     "output_type": "stream",
     "text": [
      "La probabilidad estimada para que salgan tres bolas blancas junto a dos bolas rojas es de: 0.4%.\n",
      "\n",
      "La probabilidad estimada para que todas las bolas sean del mismo color es de: 3.4%.\n"
     ]
    }
   ],
   "source": [
    "# - Declaración De Variables:\n",
    "\n",
    "ball_list = []\n",
    "ball_box = {}\n",
    "first_ball = 0\n",
    "second_ball = 0\n",
    "third_ball = 0\n",
    "fourth_ball = 0\n",
    "fifth_ball = 0\n",
    "Cont_Ig = 0\n",
    "Cont_Df = 0\n",
    "\n",
    "comb1 = ['White', 'White', 'White', 'White', 'White']\n",
    "comb2 = ['Red', 'Red', 'Red', 'Red', 'Red']\n",
    "comb3 = ['Green', 'Green', 'Green', 'Green', 'Green']\n",
    "comb4 = ['White', 'White', 'White', 'Red', 'Red']\n",
    "comb5 = ['White', 'White', 'Red', 'White', 'Red']\n",
    "comb6 = ['White', 'White', 'Red', 'Red', 'White']\n",
    "comb7 = ['White', 'Red', 'White', 'White', 'Red']\n",
    "comb8 = ['White', 'Red', 'White', 'Red', 'White']\n",
    "comb9 = ['White', 'Red', 'Red', 'White', 'White']\n",
    "comb10 = ['Red', 'White', 'White', 'White', 'Red']\n",
    "comb11 = ['Red', 'White', 'White', 'Red', 'White']\n",
    "comb12 = ['Red', 'White', 'Red', 'White', 'White']\n",
    "comb13 = ['Red', 'Red', 'White', 'White', 'White']\n",
    "\n",
    "# - Creación De La Caja:\n",
    "\n",
    "for i in range(60):\n",
    "    if i < 10:\n",
    "        ball_box[i] = \"White\"\n",
    "    elif (i > 9) and (i < 30):\n",
    "        ball_box[i] = \"Red\"\n",
    "    else:\n",
    "        ball_box[i] = \"Green\"\n",
    "\n",
    "# - Desarrollo Del Problema:\n",
    "\n",
    "for i in range(1000):\n",
    "    first_ball = random.randint(0, 59)\n",
    "    second_ball = random.randint(0, 59)\n",
    "    third_ball = random.randint(0, 59)\n",
    "    fourth_ball = random.randint(0, 59)\n",
    "    fifth_ball = random.randint(0, 59)\n",
    "    ball_list = [first_ball, second_ball, third_ball, fourth_ball, fifth_ball]\n",
    "    equiv = [ball_box[numero] for numero in ball_list]\n",
    "    if equiv == comb1 or equiv == comb2 or equiv == comb3:\n",
    "        Cont_Ig += 1\n",
    "    elif (equiv == comb4 or equiv == comb5 or equiv == comb6 or equiv == comb7 or\n",
    "          equiv == comb8 or equiv == comb9 or equiv == comb10 or equiv == comb11 or\n",
    "          equiv == comb12 or equiv == comb13):\n",
    "        Cont_Df += 1\n",
    "\n",
    "print(f\"La probabilidad estimada para que salgan tres bolas blancas junto a dos bolas rojas es de: {round(((Cont_Df/1000)*100), 1)}%.\")\n",
    "print()\n",
    "print(f\"La probabilidad estimada para que todas las bolas sean del mismo color es de: {round(((Cont_Ig/1000)*100), 1)}%.\")"
   ]
  }
 ],
 "metadata": {
  "kernelspec": {
   "display_name": "Python 3",
   "language": "python",
   "name": "python3"
  },
  "language_info": {
   "codemirror_mode": {
    "name": "ipython",
    "version": 3
   },
   "file_extension": ".py",
   "mimetype": "text/x-python",
   "name": "python",
   "nbconvert_exporter": "python",
   "pygments_lexer": "ipython3",
   "version": "3.13.1"
  }
 },
 "nbformat": 4,
 "nbformat_minor": 5
}
